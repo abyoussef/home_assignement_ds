{
  "nbformat": 4,
  "nbformat_minor": 0,
  "metadata": {
    "colab": {
      "name": "Untitled0.ipynb",
      "provenance": []
    },
    "kernelspec": {
      "name": "python3",
      "display_name": "Python 3"
    },
    "language_info": {
      "name": "python"
    }
  },
  "cells": [
    {
      "cell_type": "code",
      "execution_count": null,
      "metadata": {
        "colab": {
          "base_uri": "https://localhost:8080/"
        },
        "id": "sxc3OUl7sqo8",
        "outputId": "05d422a2-169f-48d6-872a-e1818dddd7d2"
      },
      "outputs": [
        {
          "output_type": "stream",
          "name": "stderr",
          "text": [
            "/usr/local/lib/python3.7/dist-packages/sklearn/base.py:451: UserWarning: X does not have valid feature names, but LinearRegression was fitted with feature names\n",
            "  \"X does not have valid feature names, but\"\n"
          ]
        },
        {
          "output_type": "execute_result",
          "data": {
            "text/plain": [
              "{'regression_dict': {'model_parameters': {'Bathroom': 6.375785992212336,\n",
              "   'Bedroom': -3.1602387359607067,\n",
              "   'Condition': 1.8357953743202877,\n",
              "   'Garage': 4.144757426848795,\n",
              "   'Intercept': array([19.99346773]),\n",
              "   'Lot': 0.23621323117136808,\n",
              "   'Room': 1.6889511073197694,\n",
              "   'Space': 0.00966322779633439,\n",
              "   'Tax': 0.004412718519150623},\n",
              "  'price_prediction': 69.27677925052453},\n",
              " 'summary_dict': {'data_frame':      Price  Bedroom   Space  Room   Lot     Tax  Bathroom  Garage  Condition\n",
              "  114   90.0      8.0  2293.0  12.0  50.0  1181.0       3.0     2.0        0.0\n",
              "  140   88.0      7.0  2277.0  12.0  50.0  1248.0       3.0     2.0        0.0\n",
              "  36    88.0      8.0  2278.0  12.0  50.0  1183.0       3.0     2.0        0.0\n",
              "  88    88.0      8.0  2228.0  12.0  50.0  1208.0       3.0     2.0        0.0\n",
              "  62    85.0      7.0  2295.0  12.0  50.0  1233.0       3.0     2.0        0.0\n",
              "  ..     ...      ...     ...   ...   ...     ...       ...     ...        ...\n",
              "  45    35.0      5.0  1142.0   7.0  25.0   543.0       1.5     0.0        0.0\n",
              "  19    35.0      4.0  1137.0   7.0  25.0   561.0       1.5     0.0        0.0\n",
              "  97    34.0      4.0  1087.0   7.0  25.0   584.0       1.5     0.0        0.0\n",
              "  71    34.0      4.0  1095.0   7.0  25.0   530.0       1.5     0.0        0.0\n",
              "  149   32.0      4.0  1065.0   7.0  25.0   492.0       1.5     0.0        0.0\n",
              "  \n",
              "  [110 rows x 9 columns],\n",
              "  'number_of_observations': 28,\n",
              "  'statistics': [791.2, 190.37670258959966, 890.0, 975.0, 554.0]}}"
            ]
          },
          "metadata": {},
          "execution_count": 38
        }
      ],
      "source": [
        "import numpy as np\n",
        "import pandas as pd\n",
        "from sklearn.linear_model import LinearRegression\n",
        "\n",
        "PATH = \"./realest.csv\"\n",
        "\n",
        "class AnalysisDataAndFitLinearRegression:\n",
        "\n",
        "    def __init__(self):\n",
        "        self.version = 1\n",
        "\n",
        "    def analyse_and_fit_lrm(self, path):\n",
        "        # a path to a dataset is \"./data/realest.csv\"\n",
        "        # dataset can be loaded by uncommenting the line bellow\n",
        "        data = pd.read_csv(path)\n",
        "        # subset the data for stats \n",
        "        subset_data = data[(data['Bedroom'] == 4) & (data['Bathroom'] == 2)]\n",
        "        # compute mean stand_dev median max min for Tax column\n",
        "        statistics = [\n",
        "            subset_data['Tax'].mean(),\n",
        "            subset_data['Tax'].std(),\n",
        "            subset_data['Tax'].median(),\n",
        "            subset_data['Tax'].max(),\n",
        "            subset_data['Tax'].min()\n",
        "        ]\n",
        "        # df observation given the description\n",
        "        data_frame = data[data['Space'] > 800].sort_values(by='Price', ascending=False)\n",
        "        # 4th 5-quantile is above 4/5 of the quantile\n",
        "        quantile = data['Lot'].quantile(q = 4/5)\n",
        "        number_of_observations = len(data[data['Lot'] > quantile])\n",
        "\n",
        "        summary_dict = {\n",
        "            'statistics': statistics,\n",
        "            'data_frame': data_frame,\n",
        "            'number_of_observations': number_of_observations\n",
        "        }\n",
        "\n",
        "\n",
        "        data_lr = self.__listwise_deletion(data)\n",
        "\n",
        "\n",
        "        lr_model = LinearRegression()\n",
        "        x = data_lr.loc[:, data_lr.columns != \"Price\"]\n",
        "        y = data_lr[['Price']]\n",
        "\n",
        "        lr_model.fit(x,y)\n",
        "        intercept = lr_model.intercept_\n",
        "\n",
        "        model_parameters = {\n",
        "            'Intercept': intercept,\n",
        "        }\n",
        "\n",
        "\n",
        "        for i , col in enumerate(data_lr.columns[1:]):\n",
        "          model_parameters[col] = lr_model.coef_[0][i]\n",
        "\n",
        "\n",
        "\n",
        "        # values for price prediction\n",
        "\n",
        "        price_prediction = lr_model.predict(np.array([[3, 1500, 8, 40, 1000, 2, 1, 0]]))[0][0]\n",
        "\n",
        "        regression_dict = {\n",
        "            'model_parameters': model_parameters,\n",
        "            'price_prediction': price_prediction\n",
        "        }\n",
        "\n",
        "        return {\n",
        "            'summary_dict': summary_dict,\n",
        "            'regression_dict': regression_dict\n",
        "        }\n",
        "\n",
        "    def __listwise_deletion(self, data: pd.DataFrame):\n",
        "        return data.dropna()\n",
        "\n",
        "\n",
        "a = AnalysisDataAndFitLinearRegression()\n",
        "a.analyse_and_fit_lrm(PATH)\n"
      ]
    }
  ]
}